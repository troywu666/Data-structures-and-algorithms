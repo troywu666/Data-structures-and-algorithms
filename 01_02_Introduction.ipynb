{
 "cells": [
  {
   "cell_type": "markdown",
   "metadata": {},
   "source": [
    "# Array"
   ]
  },
  {
   "cell_type": "code",
   "execution_count": null,
   "metadata": {
    "ExecuteTime": {
     "end_time": "2019-04-05T08:48:21.974180Z",
     "start_time": "2019-04-05T08:48:21.952167Z"
    }
   },
   "outputs": [],
   "source": [
    "44444444444444*32"
   ]
  },
  {
   "cell_type": "code",
   "execution_count": null,
   "metadata": {
    "ExecuteTime": {
     "end_time": "2019-04-05T08:48:24.296219Z",
     "start_time": "2019-04-05T08:48:24.289213Z"
    }
   },
   "outputs": [],
   "source": [
    "44444444444444<<5"
   ]
  },
  {
   "cell_type": "markdown",
   "metadata": {},
   "source": [
    "##### Utility"
   ]
  },
  {
   "cell_type": "code",
   "execution_count": null,
   "metadata": {
    "ExecuteTime": {
     "end_time": "2019-04-05T08:48:57.638466Z",
     "start_time": "2019-04-05T08:48:49.468967Z"
    }
   },
   "outputs": [],
   "source": [
    "import time\n",
    "import matplotlib.pyplot as plt\n",
    "import random\n",
    "import math\n",
    "%matplotlib inline  \n",
    "\n",
    "def random_list(l):\n",
    "    return [[int(1000*random.random()) for i in range(l * n)] for n in range(1, 20)]"
   ]
  },
  {
   "cell_type": "code",
   "execution_count": null,
   "metadata": {},
   "outputs": [],
   "source": []
  },
  {
   "cell_type": "markdown",
   "metadata": {},
   "source": [
    "### Python Array"
   ]
  },
  {
   "cell_type": "markdown",
   "metadata": {},
   "source": [
    "##### Reference:\n",
    "\n",
    "https://docs.python.org/3/library/array.html\n",
    "\n",
    "The array module defines a sequence data structure that looks very much like a list except that all of the members have to be of the same type. The types supported are all numeric or other fixed-size primitive types such as bytes.\n",
    "\n",
    "<img src=\"./images/ch01/pythonarray.png\"  width=\"380\" />"
   ]
  },
  {
   "cell_type": "code",
   "execution_count": null,
   "metadata": {
    "ExecuteTime": {
     "end_time": "2019-04-05T09:03:40.952979Z",
     "start_time": "2019-04-05T09:03:40.875928Z"
    }
   },
   "outputs": [],
   "source": [
    "from array import *\n",
    "\n",
    "my_array = array('i',[1,2,3,4])\n",
    "my_array"
   ]
  },
  {
   "cell_type": "code",
   "execution_count": null,
   "metadata": {
    "ExecuteTime": {
     "end_time": "2019-04-05T09:03:42.064185Z",
     "start_time": "2019-04-05T09:03:42.058181Z"
    }
   },
   "outputs": [],
   "source": [
    "s = b'This is the array.'\n",
    "a = array('b', s)"
   ]
  },
  {
   "cell_type": "code",
   "execution_count": null,
   "metadata": {
    "ExecuteTime": {
     "end_time": "2019-04-05T09:03:42.849571Z",
     "start_time": "2019-04-05T09:03:42.842568Z"
    }
   },
   "outputs": [],
   "source": [
    "a"
   ]
  },
  {
   "cell_type": "code",
   "execution_count": null,
   "metadata": {
    "ExecuteTime": {
     "end_time": "2019-04-05T09:03:44.313349Z",
     "start_time": "2019-04-05T09:03:44.297339Z"
    }
   },
   "outputs": [],
   "source": [
    "a = array('i', range(3))\n",
    "print('Initial :', a)\n",
    "\n",
    "a.append(3)\n",
    "print('Appended :', a)\n",
    "\n",
    "a.extend(range(4))\n",
    "print('Extended:', a)"
   ]
  },
  {
   "cell_type": "code",
   "execution_count": null,
   "metadata": {},
   "outputs": [],
   "source": []
  },
  {
   "cell_type": "markdown",
   "metadata": {},
   "source": [
    "### Ex1：计算一元二次方程解\n",
    "<img src=\"./images/ch01/Ex1.jpg\" width=\"380\" align=\"left\"/>\n"
   ]
  },
  {
   "cell_type": "code",
   "execution_count": null,
   "metadata": {
    "ExecuteTime": {
     "end_time": "2019-04-05T09:07:23.888651Z",
     "start_time": "2019-04-05T09:07:23.873640Z"
    }
   },
   "outputs": [],
   "source": [
    "def solve(a, b, c):\n",
    "    delta=b**2-4*a*c\n",
    "    if delta>=0:\n",
    "        return -(b+delta)/(2*a),-(b-delta)/(2*a)\n",
    "    else:\n",
    "        return \"error\""
   ]
  },
  {
   "cell_type": "code",
   "execution_count": null,
   "metadata": {
    "ExecuteTime": {
     "end_time": "2019-04-05T09:07:26.869340Z",
     "start_time": "2019-04-05T09:07:26.859334Z"
    }
   },
   "outputs": [],
   "source": [
    "solve(1, 4, 1)"
   ]
  },
  {
   "cell_type": "code",
   "execution_count": null,
   "metadata": {},
   "outputs": [],
   "source": []
  },
  {
   "cell_type": "markdown",
   "metadata": {},
   "source": [
    "### Ex2：Singing Contest\n",
    "一个歌唱比赛的歌手打分，我们设计一个程序帮助现场去掉一个最低分和一个最高分，再计算一个平均分。\n",
    "\n",
    "例如分数为: [8,9,5,10,9.5,8,7,9,9.5] 则去掉最低分 [8,9,5,10,9.5,8,9,9.5]"
   ]
  },
  {
   "cell_type": "code",
   "execution_count": null,
   "metadata": {},
   "outputs": [],
   "source": [
    "def singing_score(values):\n",
    "    start = time.time()\n",
    "    ## your code starts here\n",
    "    rst = 0\n",
    "    t = time.time() - start\n",
    "    return rst, len(values), t\n",
    "\n",
    "#Find the min and max\n",
    "#Remove it from the list.\n",
    "values =  [8,9,5,10,5,8,7,9,9.5]\n",
    "singing_score(values)"
   ]
  },
  {
   "cell_type": "code",
   "execution_count": null,
   "metadata": {},
   "outputs": [],
   "source": [
    "random_lists = random_list(1000)\n",
    "rst = [singing_score(l) for l in random_lists]"
   ]
  },
  {
   "cell_type": "code",
   "execution_count": null,
   "metadata": {},
   "outputs": [],
   "source": [
    "x = list(zip(*rst))[1]\n",
    "y = list(zip(*rst))[2]\n",
    "\n",
    "plt.plot(x, y)"
   ]
  },
  {
   "cell_type": "code",
   "execution_count": null,
   "metadata": {},
   "outputs": [],
   "source": [
    "def singing_score2(values):\n",
    "    start = time.time()\n",
    "    ## your code starts here\n",
    "            \n",
    "    rst = 0\n",
    "    t = time.time() - start\n",
    "    return rst, len(values), t"
   ]
  },
  {
   "cell_type": "code",
   "execution_count": null,
   "metadata": {},
   "outputs": [],
   "source": [
    "#random_lists = random_list(1000)\n",
    "rst = [singing_score2(l) for l in random_lists]"
   ]
  },
  {
   "cell_type": "code",
   "execution_count": null,
   "metadata": {},
   "outputs": [],
   "source": []
  },
  {
   "cell_type": "markdown",
   "metadata": {},
   "source": [
    "### Ex3：计算 𝜋 值\n",
    "\n",
    "#### 方法一\n",
    "\n",
    "$$\n",
    "\\frac{\\pi}{4} = 1-\\frac{1}{3}+\\frac{1}{5}-\\frac{1}{7}+\\frac{1}{9}+…\n",
    "$$"
   ]
  },
  {
   "cell_type": "code",
   "execution_count": 29,
   "metadata": {
    "ExecuteTime": {
     "end_time": "2019-04-05T09:34:52.830905Z",
     "start_time": "2019-04-05T09:34:52.821899Z"
    }
   },
   "outputs": [],
   "source": [
    "def pi1(n):\n",
    "    l=0\n",
    "    for i in range(n):\n",
    "        l+=(1/(2*i+1))*((-1)**(i+2))\n",
    "    return l"
   ]
  },
  {
   "cell_type": "code",
   "execution_count": 30,
   "metadata": {
    "ExecuteTime": {
     "end_time": "2019-04-05T09:34:53.285206Z",
     "start_time": "2019-04-05T09:34:53.227169Z"
    }
   },
   "outputs": [
    {
     "data": {
      "text/plain": [
       "-0.3333333333333333"
      ]
     },
     "execution_count": 30,
     "metadata": {},
     "output_type": "execute_result"
    }
   ],
   "source": [
    "n=1\n",
    "(1/(2*n+1))*((-1)**(n+2))"
   ]
  },
  {
   "cell_type": "code",
   "execution_count": 32,
   "metadata": {
    "ExecuteTime": {
     "end_time": "2019-04-05T09:34:58.504025Z",
     "start_time": "2019-04-05T09:34:58.482012Z"
    }
   },
   "outputs": [
    {
     "data": {
      "text/plain": [
       "3.1414926535900345"
      ]
     },
     "execution_count": 32,
     "metadata": {},
     "output_type": "execute_result"
    }
   ],
   "source": [
    "pi1(10000)*4"
   ]
  },
  {
   "cell_type": "code",
   "execution_count": null,
   "metadata": {},
   "outputs": [],
   "source": [
    "def pi2():\n",
    "    ## your code starts here\n",
    "    pass "
   ]
  },
  {
   "cell_type": "code",
   "execution_count": null,
   "metadata": {},
   "outputs": [],
   "source": [
    "pi2()"
   ]
  },
  {
   "cell_type": "markdown",
   "metadata": {},
   "source": [
    "### 方法二: 蒙特卡洛模拟\n",
    "想象一个圆形靶子，我们不停的向靶面射击, 命名圆内的我们算是“击中 也就是 $x^2 + y^2 ≤ 1$.<br/>\n",
    "假如我们不停的射击，直到我们把这个方形的靶子全部覆盖(打成了骰子)<br/>\n",
    "圆的面积应该是$$ S_{circle} = \\pi r^2 $$\n",
    "方形的面积应该是$$ S_{square} = a^2 $$\n",
    "也就是说 $$ S_{circle} /  S_{square} = \\pi r^2 / a^2$$\n",
    "$$ r = 1, a =2 $$\n",
    "hits / tries is approximately equal to the ratio of the areas\n",
    "of the circle\n",
    "那么$$ S_{circle} /  S_{square} = \\pi / 4$$\n",
    "那么预估的$$\\pi = 4 \\times (S_{circle} /  S_{square})$$\n",
    "<img src=\"./images/ch01/ex3.png\" width=\"280\"/>"
   ]
  },
  {
   "cell_type": "code",
   "execution_count": 78,
   "metadata": {
    "ExecuteTime": {
     "end_time": "2019-04-05T09:49:06.597698Z",
     "start_time": "2019-04-05T09:49:06.579686Z"
    }
   },
   "outputs": [],
   "source": [
    "import random\n",
    "\n",
    "def pi3(TRIES):\n",
    "    m,n=0,0\n",
    "    for i in range(TRIES):\n",
    "        x=random.uniform(-1,1)\n",
    "        y=random.uniform(-1,1)\n",
    "        if x**2+y**2<1:\n",
    "            n+=1\n",
    "    return n/TRIES*4\n"
   ]
  },
  {
   "cell_type": "code",
   "execution_count": 79,
   "metadata": {
    "ExecuteTime": {
     "end_time": "2019-04-05T09:49:07.103036Z",
     "start_time": "2019-04-05T09:49:07.090025Z"
    }
   },
   "outputs": [
    {
     "data": {
      "text/plain": [
       "3.152"
      ]
     },
     "execution_count": 79,
     "metadata": {},
     "output_type": "execute_result"
    }
   ],
   "source": [
    "pi3(1000)"
   ]
  },
  {
   "cell_type": "code",
   "execution_count": 73,
   "metadata": {
    "ExecuteTime": {
     "end_time": "2019-04-05T09:47:56.820117Z",
     "start_time": "2019-04-05T09:47:56.811114Z"
    }
   },
   "outputs": [
    {
     "data": {
      "text/plain": [
       "0.23881404435101117"
      ]
     },
     "execution_count": 73,
     "metadata": {},
     "output_type": "execute_result"
    }
   ],
   "source": [
    "random.uniform(-1,1)"
   ]
  },
  {
   "cell_type": "markdown",
   "metadata": {},
   "source": [
    "### Ex4：乘法口诀表\n",
    "\n",
    "<img src=\"./images/ch01/ex4.png\" width=\"480\"/>"
   ]
  },
  {
   "cell_type": "code",
   "execution_count": 94,
   "metadata": {
    "ExecuteTime": {
     "end_time": "2019-04-05T10:38:05.312801Z",
     "start_time": "2019-04-05T10:38:05.301794Z"
    }
   },
   "outputs": [],
   "source": [
    "def mults():\n",
    "    for i in range(1,10):\n",
    "        print(' ')\n",
    "        for j in range(1,10):\n",
    "            if j<=i:\n",
    "                print('  {} * {} = {}'.format(j,i,i*j),end=\"\")     "
   ]
  },
  {
   "cell_type": "code",
   "execution_count": 95,
   "metadata": {
    "ExecuteTime": {
     "end_time": "2019-04-05T10:38:06.040838Z",
     "start_time": "2019-04-05T10:38:06.017821Z"
    }
   },
   "outputs": [
    {
     "name": "stdout",
     "output_type": "stream",
     "text": [
      " \n",
      "  1 * 1 = 1 \n",
      "  1 * 2 = 2  2 * 2 = 4 \n",
      "  1 * 3 = 3  2 * 3 = 6  3 * 3 = 9 \n",
      "  1 * 4 = 4  2 * 4 = 8  3 * 4 = 12  4 * 4 = 16 \n",
      "  1 * 5 = 5  2 * 5 = 10  3 * 5 = 15  4 * 5 = 20  5 * 5 = 25 \n",
      "  1 * 6 = 6  2 * 6 = 12  3 * 6 = 18  4 * 6 = 24  5 * 6 = 30  6 * 6 = 36 \n",
      "  1 * 7 = 7  2 * 7 = 14  3 * 7 = 21  4 * 7 = 28  5 * 7 = 35  6 * 7 = 42  7 * 7 = 49 \n",
      "  1 * 8 = 8  2 * 8 = 16  3 * 8 = 24  4 * 8 = 32  5 * 8 = 40  6 * 8 = 48  7 * 8 = 56  8 * 8 = 64 \n",
      "  1 * 9 = 9  2 * 9 = 18  3 * 9 = 27  4 * 9 = 36  5 * 9 = 45  6 * 9 = 54  7 * 9 = 63  8 * 9 = 72  9 * 9 = 81"
     ]
    }
   ],
   "source": [
    "mults()"
   ]
  },
  {
   "cell_type": "code",
   "execution_count": null,
   "metadata": {},
   "outputs": [],
   "source": []
  },
  {
   "cell_type": "markdown",
   "metadata": {},
   "source": [
    "### Ex5：洗牌\n",
    "\n",
    "洗牌后的每个元素随机出现在每个位置，且<B><I>概率相同</I></B>"
   ]
  },
  {
   "cell_type": "code",
   "execution_count": null,
   "metadata": {},
   "outputs": [],
   "source": [
    "import random\n",
    "def shuffle_system(cards):\n",
    "    random.shuffle(cards)     "
   ]
  },
  {
   "cell_type": "code",
   "execution_count": null,
   "metadata": {},
   "outputs": [],
   "source": [
    "def shuffle_1st(cards):\n",
    "    for k in range(len(cards)):\n",
    "        i = random.randint(0, len(cards) - 1)\n",
    "        j = random.randint(0, len(cards) - 1)\n",
    "        cards[i], cards[j] = cards[j], cards[i]"
   ]
  },
  {
   "cell_type": "code",
   "execution_count": null,
   "metadata": {},
   "outputs": [],
   "source": [
    "def shuffle_2nd(cards):\n",
    "    for k in range(len(cards)):\n",
    "        i = random.randint(0, len(cards) - 1)\n",
    "        cards[i], cards[k] = cards[k], cards[i]"
   ]
  },
  {
   "cell_type": "code",
   "execution_count": null,
   "metadata": {},
   "outputs": [],
   "source": [
    "def shuffle_correct(cards):\n",
    "    ## your code starts here\n",
    "    pass"
   ]
  },
  {
   "cell_type": "code",
   "execution_count": null,
   "metadata": {},
   "outputs": [],
   "source": [
    "A = [i for i in range(0, 10)]\n",
    "A"
   ]
  },
  {
   "cell_type": "code",
   "execution_count": null,
   "metadata": {},
   "outputs": [],
   "source": [
    "shuffle_1st(A)\n",
    "A"
   ]
  },
  {
   "cell_type": "code",
   "execution_count": null,
   "metadata": {},
   "outputs": [],
   "source": [
    "shuffle_system(A)"
   ]
  },
  {
   "cell_type": "code",
   "execution_count": null,
   "metadata": {},
   "outputs": [],
   "source": [
    "A"
   ]
  },
  {
   "cell_type": "code",
   "execution_count": null,
   "metadata": {},
   "outputs": [],
   "source": [
    "def test_shuffle(f):\n",
    "    result = [[0 for i in range(10)] for j in range(10)]\n",
    "\n",
    "    for i in range(10000):\n",
    "        A = [i for i in range(0, 10)]\n",
    "        f(A)\n",
    "        for j in range(len(A)):\n",
    "            result[A[j]][j] += 1\n",
    "        \n",
    "    print('\\n'.join([''.join(['{:6}'.format(item) for item in row]) \n",
    "          for row in result]))"
   ]
  },
  {
   "cell_type": "code",
   "execution_count": 96,
   "metadata": {
    "ExecuteTime": {
     "end_time": "2019-04-05T11:26:10.849607Z",
     "start_time": "2019-04-05T11:26:10.699866Z"
    }
   },
   "outputs": [
    {
     "data": {
      "text/plain": [
       "[[0, 0, 0, 0, 0, 0, 0, 0, 0, 0],\n",
       " [0, 0, 0, 0, 0, 0, 0, 0, 0, 0],\n",
       " [0, 0, 0, 0, 0, 0, 0, 0, 0, 0],\n",
       " [0, 0, 0, 0, 0, 0, 0, 0, 0, 0],\n",
       " [0, 0, 0, 0, 0, 0, 0, 0, 0, 0],\n",
       " [0, 0, 0, 0, 0, 0, 0, 0, 0, 0],\n",
       " [0, 0, 0, 0, 0, 0, 0, 0, 0, 0],\n",
       " [0, 0, 0, 0, 0, 0, 0, 0, 0, 0],\n",
       " [0, 0, 0, 0, 0, 0, 0, 0, 0, 0],\n",
       " [0, 0, 0, 0, 0, 0, 0, 0, 0, 0]]"
      ]
     },
     "execution_count": 96,
     "metadata": {},
     "output_type": "execute_result"
    }
   ],
   "source": [
    "[[0 for i in range(10)] for j in range(10)]"
   ]
  },
  {
   "cell_type": "code",
   "execution_count": null,
   "metadata": {},
   "outputs": [],
   "source": [
    "test_shuffle(shuffle_system)"
   ]
  },
  {
   "cell_type": "code",
   "execution_count": null,
   "metadata": {},
   "outputs": [],
   "source": [
    "test_shuffle(shuffle_correct)"
   ]
  },
  {
   "cell_type": "code",
   "execution_count": null,
   "metadata": {},
   "outputs": [],
   "source": [
    "test_shuffle(shuffle_1st)"
   ]
  },
  {
   "cell_type": "code",
   "execution_count": null,
   "metadata": {},
   "outputs": [],
   "source": [
    "test_shuffle(shuffle_2nd)"
   ]
  },
  {
   "cell_type": "markdown",
   "metadata": {},
   "source": [
    "<img src=\"./images/ch01/shuffle2.png\" width=\"560\"/>"
   ]
  },
  {
   "cell_type": "markdown",
   "metadata": {},
   "source": [
    "### Ex6：Coupon Collector\n",
    "\n",
    "Suppose that you have a shuffled deck of cards and you turn them face up, one by one. How many cards do you need to turn up before you have seen one of each suit? Given N distinct card types, how many random cards do you need do collect before you have (at least) one of each type? \n"
   ]
  },
  {
   "cell_type": "code",
   "execution_count": null,
   "metadata": {},
   "outputs": [],
   "source": [
    "def coupon(n):\n",
    "    ## your code starts here\n",
    "    pass\n",
    "    \n",
    "coupon(100000)"
   ]
  },
  {
   "cell_type": "code",
   "execution_count": null,
   "metadata": {},
   "outputs": [],
   "source": []
  },
  {
   "cell_type": "markdown",
   "metadata": {},
   "source": [
    "### Ex7：数质数\n",
    "\n",
    "给定一个正整数n，计算出小于等于n的质数有多少个。\n",
    "比如17，则返回7，因为小于等于7的质数有2，3，5，7，13，17"
   ]
  },
  {
   "cell_type": "code",
   "execution_count": null,
   "metadata": {},
   "outputs": [],
   "source": [
    "def count_prime(n):\n",
    "    ## your code starts here\n",
    "    pass\n",
    "        "
   ]
  },
  {
   "cell_type": "code",
   "execution_count": null,
   "metadata": {},
   "outputs": [],
   "source": [
    "count_prime(100)"
   ]
  },
  {
   "cell_type": "code",
   "execution_count": null,
   "metadata": {},
   "outputs": [],
   "source": []
  },
  {
   "cell_type": "markdown",
   "metadata": {},
   "source": [
    "### Ex8：哥德巴赫猜想\n",
    "任一大于2的偶数，都可表示成两个质数之和。\n"
   ]
  },
  {
   "cell_type": "code",
   "execution_count": null,
   "metadata": {},
   "outputs": [],
   "source": [
    "def goldbach(n):\n",
    "    ## your code starts here\n",
    "    pass"
   ]
  },
  {
   "cell_type": "code",
   "execution_count": null,
   "metadata": {},
   "outputs": [],
   "source": [
    "goldbach(100)"
   ]
  },
  {
   "cell_type": "code",
   "execution_count": null,
   "metadata": {},
   "outputs": [],
   "source": []
  },
  {
   "cell_type": "markdown",
   "metadata": {},
   "source": [
    "### Ex9：1-bit and 2-bit Characters\n",
    "\n",
    "We have two special characters. The first character can be represented by one bit 0. The second character can be represented by two bits (10 or 11).\n",
    "\n",
    "Now given a string represented by several bits. Return whether the last character must be a one-bit character or not. The given string will always end with a zero.\n",
    "\n",
    "Example 1:\n",
    "\n",
    "Input: bits = [1, 0, 0] \n",
    "\n",
    "Output: True \n",
    "\n",
    "Explanation: The only way to decode it is two-bit character and one-bit character. So the last character is one-bit character. \n",
    "\n",
    "Example 2:\n",
    "\n",
    "Input: bits = [1, 1, 1, 0] \n",
    "\n",
    "Output: False \n",
    "\n",
    "Explanation: The only way to decode it is two-bit character and two-bit character. So the last character is NOT one-bit character. "
   ]
  },
  {
   "cell_type": "code",
   "execution_count": null,
   "metadata": {},
   "outputs": [],
   "source": [
    "def oneEnd(bits):\n",
    "    pass"
   ]
  },
  {
   "cell_type": "code",
   "execution_count": null,
   "metadata": {},
   "outputs": [],
   "source": [
    "bits = [1,0,0]\n",
    "print(oneEnd(bits))\n",
    "bits = [1, 1, 1, 0]\n",
    "print(oneEnd(bits))"
   ]
  },
  {
   "cell_type": "code",
   "execution_count": null,
   "metadata": {},
   "outputs": [],
   "source": []
  }
 ],
 "metadata": {
  "kernelspec": {
   "display_name": "tensorflow35",
   "language": "python",
   "name": "tensorflow35"
  },
  "language_info": {
   "codemirror_mode": {
    "name": "ipython",
    "version": 3
   },
   "file_extension": ".py",
   "mimetype": "text/x-python",
   "name": "python",
   "nbconvert_exporter": "python",
   "pygments_lexer": "ipython3",
   "version": "3.5.4"
  },
  "latex_envs": {
   "LaTeX_envs_menu_present": true,
   "autoclose": false,
   "autocomplete": true,
   "bibliofile": "biblio.bib",
   "cite_by": "apalike",
   "current_citInitial": 1,
   "eqLabelWithNumbers": true,
   "eqNumInitial": 1,
   "hotkeys": {
    "equation": "Ctrl-E",
    "itemize": "Ctrl-I"
   },
   "labels_anchors": false,
   "latex_user_defs": false,
   "report_style_numbering": false,
   "user_envs_cfg": false
  },
  "toc": {
   "base_numbering": 1,
   "nav_menu": {},
   "number_sections": true,
   "sideBar": true,
   "skip_h1_title": false,
   "title_cell": "Table of Contents",
   "title_sidebar": "Contents",
   "toc_cell": false,
   "toc_position": {},
   "toc_section_display": true,
   "toc_window_display": false
  },
  "varInspector": {
   "cols": {
    "lenName": 16,
    "lenType": 16,
    "lenVar": 40
   },
   "kernels_config": {
    "python": {
     "delete_cmd_postfix": "",
     "delete_cmd_prefix": "del ",
     "library": "var_list.py",
     "varRefreshCmd": "print(var_dic_list())"
    },
    "r": {
     "delete_cmd_postfix": ") ",
     "delete_cmd_prefix": "rm(",
     "library": "var_list.r",
     "varRefreshCmd": "cat(var_dic_list()) "
    }
   },
   "types_to_exclude": [
    "module",
    "function",
    "builtin_function_or_method",
    "instance",
    "_Feature"
   ],
   "window_display": false
  }
 },
 "nbformat": 4,
 "nbformat_minor": 2
}
