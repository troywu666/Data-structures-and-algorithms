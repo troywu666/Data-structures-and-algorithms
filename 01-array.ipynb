{
 "cells": [
  {
   "cell_type": "markdown",
   "metadata": {},
   "source": [
    "## array\n",
    "### 静态数组\n",
    "#### 一个歌唱比赛的歌手打分，我们设计一个程序帮助现场去掉一个最低分和一个最高分，再计算一个平均分"
   ]
  },
  {
   "cell_type": "code",
   "execution_count": 5,
   "metadata": {
    "ExecuteTime": {
     "end_time": "2019-08-21T03:24:53.886442Z",
     "start_time": "2019-08-21T03:24:53.880435Z"
    }
   },
   "outputs": [],
   "source": [
    "def sing_score(scores):\n",
    "    min_score = scores[0]\n",
    "    max_score = scores[0]\n",
    "    for i in range(len(scores)):\n",
    "        if scores[i] > max_score:\n",
    "            max_score = scores[i]\n",
    "        if scores[i] < min_score:\n",
    "            min_score = scores[i]\n",
    "    scores.remove(min_score)\n",
    "    scores.remove(max_score)\n",
    "    return scores, sum(scores) / len(scores)"
   ]
  },
  {
   "cell_type": "code",
   "execution_count": 6,
   "metadata": {
    "ExecuteTime": {
     "end_time": "2019-08-21T03:24:54.156895Z",
     "start_time": "2019-08-21T03:24:54.143886Z"
    }
   },
   "outputs": [
    {
     "data": {
      "text/plain": [
       "([8, 9, 5, 8, 7, 9, 9.5], 7.928571428571429)"
      ]
     },
     "execution_count": 6,
     "metadata": {},
     "output_type": "execute_result"
    }
   ],
   "source": [
    "values =  [8,9,5,10,5,8,7,9,9.5]\n",
    "sing_score(values)"
   ]
  },
  {
   "cell_type": "markdown",
   "metadata": {},
   "source": [
    "#### 使用蒙特卡洛模拟计算π值"
   ]
  },
  {
   "cell_type": "code",
   "execution_count": 10,
   "metadata": {
    "ExecuteTime": {
     "end_time": "2019-08-21T03:45:58.358040Z",
     "start_time": "2019-08-21T03:45:58.352035Z"
    }
   },
   "outputs": [],
   "source": [
    "from random import random \n",
    "\n",
    "def pi(k):\n",
    "    circle = 0\n",
    "    for i in range(k):\n",
    "        m = random()\n",
    "        n = random()\n",
    "        x = -1 + 2 * m\n",
    "        y = -1 + 2 * n\n",
    "        if x ** 2 + y ** 2 < 1:\n",
    "            circle += 1\n",
    "    return 4 * circle / k"
   ]
  },
  {
   "cell_type": "code",
   "execution_count": 12,
   "metadata": {
    "ExecuteTime": {
     "end_time": "2019-08-21T03:48:20.073516Z",
     "start_time": "2019-08-21T03:46:27.204122Z"
    }
   },
   "outputs": [
    {
     "data": {
      "text/plain": [
       "3.14146792"
      ]
     },
     "execution_count": 12,
     "metadata": {},
     "output_type": "execute_result"
    }
   ],
   "source": [
    "pi(100000000)"
   ]
  },
  {
   "cell_type": "markdown",
   "metadata": {},
   "source": [
    "#### 洗牌后的每个元素随机出现在每个位置，且***概率相同***"
   ]
  },
  {
   "cell_type": "code",
   "execution_count": 26,
   "metadata": {
    "ExecuteTime": {
     "end_time": "2019-08-21T06:46:41.709848Z",
     "start_time": "2019-08-21T06:46:41.663818Z"
    }
   },
   "outputs": [
    {
     "name": "stdout",
     "output_type": "stream",
     "text": [
      "[97, 116, 79, 107, 87, 104, 91, 104, 116, 99]\n",
      "[87, 103, 79, 102, 97, 101, 111, 119, 100, 101]\n",
      "[106, 94, 104, 110, 112, 89, 100, 92, 107, 86]\n",
      "[98, 95, 108, 99, 108, 123, 79, 102, 85, 103]\n",
      "[98, 116, 98, 90, 104, 99, 100, 100, 105, 90]\n",
      "[108, 98, 100, 95, 99, 88, 102, 96, 100, 114]\n",
      "[100, 94, 99, 108, 92, 110, 109, 101, 97, 90]\n",
      "[79, 95, 117, 112, 100, 93, 98, 89, 104, 113]\n",
      "[104, 101, 102, 92, 106, 104, 103, 96, 90, 102]\n",
      "[123, 88, 114, 85, 95, 89, 107, 101, 96, 102]\n"
     ]
    }
   ],
   "source": [
    "from random import randint\n",
    "\n",
    "def shuffle(cards):\n",
    "    ords = [i for i in range(len(cards))]\n",
    "    for i in range(len(cards)):\n",
    "        m = i + randint(0, len(cards) - i - 1)\n",
    "        cards[i], cards[m] = cards[m], cards[i]\n",
    "        ords[i], ords[m] = ords[m], ords[i]\n",
    "    return ords\n",
    "        \n",
    "def test_shuffle(cards, times):\n",
    "    result = [[0 for i in range(len(cards))] for j in range(len(cards))]\n",
    "    for t in range(times):\n",
    "        shuffle_order = shuffle(cards)\n",
    "        for j in range(len(shuffle_order)):\n",
    "            result[shuffle_order[j]][j] += 1\n",
    "    for k in result:\n",
    "        print(k)\n",
    "\n",
    "test_shuffle([i for i in range(10)], 1000)"
   ]
  },
  {
   "cell_type": "markdown",
   "metadata": {},
   "source": [
    "#### 卡牌收集\n",
    "假设你有一副洗好了的牌， 你现在一张一张的进行翻牌， 请问你要翻多少张才能\n",
    "够凑齐一个花色？ 假定一副牌有N种类型， 那么你至少需要翻多少张才能凑齐一个类型？"
   ]
  },
  {
   "cell_type": "code",
   "execution_count": 35,
   "metadata": {
    "ExecuteTime": {
     "end_time": "2019-08-21T10:15:59.366380Z",
     "start_time": "2019-08-21T10:15:59.165271Z"
    }
   },
   "outputs": [
    {
     "name": "stdout",
     "output_type": "stream",
     "text": [
      "12\n"
     ]
    }
   ],
   "source": [
    "import random\n",
    "\n",
    "def coupon(n):\n",
    "    rst = [False] * n\n",
    "    count = 0\n",
    "    distinct = 0\n",
    "    while distinct < n:\n",
    "        m = random.randint(0, n-1)\n",
    "        if not rst[m]:\n",
    "            rst[m] = True\n",
    "            distinct += 1\n",
    "        count += 1\n",
    "    print(count)\n",
    "    \n",
    "coupon(10)"
   ]
  },
  {
   "cell_type": "markdown",
   "metadata": {},
   "source": [
    "#### 数质数\n",
    "##### 数质数：给定一个正整数n，计算出<span style = 'color: red'>小于等于</span>n的质数有多少个"
   ]
  },
  {
   "cell_type": "code",
   "execution_count": 7,
   "metadata": {
    "ExecuteTime": {
     "end_time": "2019-08-22T08:09:04.315156Z",
     "start_time": "2019-08-22T08:09:04.307152Z"
    }
   },
   "outputs": [],
   "source": [
    "def count_prime(n):\n",
    "    is_prime = [True] * (n+1)\n",
    "    i = 2\n",
    "    while i * i <= n:\n",
    "        if is_prime[i]:\n",
    "            j = i\n",
    "            while j * i <= n:\n",
    "                is_prime[j * i] = False\n",
    "                j += 1\n",
    "        i += 1\n",
    "        \n",
    "    count = 0\n",
    "    for i in range(2, n + 1):\n",
    "        if is_prime[i]:\n",
    "            print(i, end  = ' ')\n",
    "            count += 1\n",
    "    return count"
   ]
  },
  {
   "cell_type": "code",
   "execution_count": 10,
   "metadata": {
    "ExecuteTime": {
     "end_time": "2019-08-22T08:56:20.750058Z",
     "start_time": "2019-08-22T08:56:20.744054Z"
    }
   },
   "outputs": [
    {
     "name": "stdout",
     "output_type": "stream",
     "text": [
      "2 3 "
     ]
    },
    {
     "data": {
      "text/plain": [
       "2"
      ]
     },
     "execution_count": 10,
     "metadata": {},
     "output_type": "execute_result"
    }
   ],
   "source": [
    "count_prime(3)"
   ]
  },
  {
   "cell_type": "markdown",
   "metadata": {},
   "source": [
    "##### 数质数：给定一个正整数n，计算出<span style = 'color: red'>小于</span>n的质数有多少个"
   ]
  },
  {
   "cell_type": "code",
   "execution_count": 19,
   "metadata": {
    "ExecuteTime": {
     "end_time": "2019-08-22T09:45:08.666760Z",
     "start_time": "2019-08-22T09:45:08.658756Z"
    }
   },
   "outputs": [],
   "source": [
    "class Solution():\n",
    "    def countPrimes(self, n):\n",
    "        if n <= 2:\n",
    "            return 0\n",
    "        if n > 2:\n",
    "            is_prime = [True] * (n + 1)\n",
    "            i = 2\n",
    "            while i * i <= n:\n",
    "                if is_prime[i]:\n",
    "                    j = i\n",
    "                    while j * i <= n:\n",
    "                        is_prime[i * j] = False\n",
    "                        j += 1\n",
    "                i += 1\n",
    "            count = 0\n",
    "            for i in range(2, n):\n",
    "                if is_prime[i]:\n",
    "                    count += 1\n",
    "            return count "
   ]
  },
  {
   "cell_type": "code",
   "execution_count": 23,
   "metadata": {
    "ExecuteTime": {
     "end_time": "2019-08-22T09:45:42.347716Z",
     "start_time": "2019-08-22T09:45:42.341712Z"
    }
   },
   "outputs": [
    {
     "data": {
      "text/plain": [
       "1"
      ]
     },
     "execution_count": 23,
     "metadata": {},
     "output_type": "execute_result"
    }
   ],
   "source": [
    "A = Solution()\n",
    "A.countPrimes(3)"
   ]
  },
  {
   "cell_type": "markdown",
   "metadata": {},
   "source": [
    "#### 哥德巴赫猜想：任一大于2的偶数，都可表示成两个质数之和"
   ]
  },
  {
   "cell_type": "code",
   "execution_count": 37,
   "metadata": {
    "ExecuteTime": {
     "end_time": "2019-08-22T10:23:25.016552Z",
     "start_time": "2019-08-22T10:23:25.002541Z"
    }
   },
   "outputs": [],
   "source": [
    "def goldbach(n):\n",
    "    is_prime = [True] * (n + 1)\n",
    "    i = 2\n",
    "    while i * i <= n:\n",
    "        if is_prime[i]:\n",
    "            j = i\n",
    "            while j * i <= n:\n",
    "                is_prime[j * i] = False\n",
    "                j += 1\n",
    "        i += 1\n",
    "    count = 0\n",
    "    primes = []\n",
    "    for i in range(2, n):\n",
    "        if is_prime[i]:\n",
    "            primes .append(i)\n",
    "            count += 1\n",
    "    \n",
    "    i = 0\n",
    "    j = count - 1\n",
    "    while i < j:\n",
    "        if primes[i] + primes[j] == n:\n",
    "            print(primes[i], '+', primes[j])\n",
    "            i += 1\n",
    "            j -= 1\n",
    "        if primes[i] + primes[j] < n:\n",
    "            i += 1\n",
    "        if primes[i] + primes[j] > n:\n",
    "            j -= 1"
   ]
  },
  {
   "cell_type": "code",
   "execution_count": 38,
   "metadata": {
    "ExecuteTime": {
     "end_time": "2019-08-22T10:23:25.989846Z",
     "start_time": "2019-08-22T10:23:25.983842Z"
    }
   },
   "outputs": [
    {
     "name": "stdout",
     "output_type": "stream",
     "text": [
      "3 + 97\n",
      "11 + 89\n",
      "17 + 83\n",
      "29 + 71\n",
      "41 + 59\n",
      "47 + 53\n"
     ]
    }
   ],
   "source": [
    "goldbach(100)"
   ]
  },
  {
   "cell_type": "markdown",
   "metadata": {},
   "source": [
    "#### 1-bit 和 2-bit的字符\n",
    "有两种特殊字符。第一种字符可以用一比特0来表示。第二种字符可以用两比特(10 或 11)来表示。\n",
    "\n",
    "现给一个由若干比特组成的字符串。问最后一个字符是否必定为一个一比特字符。给定的字符串总是由0结束。\n",
    "##### 线性扫描"
   ]
  },
  {
   "cell_type": "code",
   "execution_count": 46,
   "metadata": {
    "ExecuteTime": {
     "end_time": "2019-08-22T11:55:42.171550Z",
     "start_time": "2019-08-22T11:55:42.166548Z"
    }
   },
   "outputs": [],
   "source": [
    "def is_zero_bit(bits):\n",
    "    i = 0\n",
    "    while i < len(bits) - 1:\n",
    "        i += bits[i] + 1\n",
    "    return i == len(bits) - 1 and bits[-1] == 0"
   ]
  },
  {
   "cell_type": "code",
   "execution_count": 47,
   "metadata": {
    "ExecuteTime": {
     "end_time": "2019-08-22T11:55:42.726744Z",
     "start_time": "2019-08-22T11:55:42.719743Z"
    }
   },
   "outputs": [
    {
     "data": {
      "text/plain": [
       "True"
      ]
     },
     "execution_count": 47,
     "metadata": {},
     "output_type": "execute_result"
    }
   ],
   "source": [
    "is_zero_bit([0,0,0])"
   ]
  },
  {
   "cell_type": "markdown",
   "metadata": {},
   "source": [
    "##### 贪心算法"
   ]
  },
  {
   "cell_type": "code",
   "execution_count": 54,
   "metadata": {
    "ExecuteTime": {
     "end_time": "2019-08-22T12:55:28.669253Z",
     "start_time": "2019-08-22T12:55:28.664251Z"
    }
   },
   "outputs": [],
   "source": [
    "def is_zero_bit(bits):\n",
    "    count = 0\n",
    "    m = bits.pop()\n",
    "    while bits and bits.pop():\n",
    "        count += 1\n",
    "    return count % 2 == 0 "
   ]
  },
  {
   "cell_type": "code",
   "execution_count": null,
   "metadata": {},
   "outputs": [],
   "source": [
    "class Solution(object):\n",
    "    def isOneBitCharacter(self, bits):\n",
    "        parity = bits.pop()\n",
    "        while bits and bits.pop(): \n",
    "            parity ^= 1\n",
    "        return parity == 0"
   ]
  },
  {
   "cell_type": "code",
   "execution_count": 55,
   "metadata": {
    "ExecuteTime": {
     "end_time": "2019-08-22T12:55:35.588967Z",
     "start_time": "2019-08-22T12:55:35.581961Z"
    }
   },
   "outputs": [
    {
     "data": {
      "text/plain": [
       "False"
      ]
     },
     "execution_count": 55,
     "metadata": {},
     "output_type": "execute_result"
    }
   ],
   "source": [
    "is_zero_bit([0,1,0])"
   ]
  },
  {
   "cell_type": "markdown",
   "metadata": {},
   "source": [
    "### 动态数组\n",
    "#### 矩阵置0\n",
    "给一个 m×n 的矩阵，如果有一个元素为 0，则把该元素对应的行与列所有元素全部变成 0。"
   ]
  },
  {
   "cell_type": "code",
   "execution_count": 2,
   "metadata": {
    "ExecuteTime": {
     "end_time": "2019-08-23T04:25:28.422792Z",
     "start_time": "2019-08-23T04:25:28.414785Z"
    }
   },
   "outputs": [],
   "source": [
    "##空间复杂度O（m + n）\n",
    "##时间复杂度O（m x n）\n",
    "\n",
    "class Solution:\n",
    "    def setZeroes(self, matrix) -> None:\n",
    "        m = [None] * len(matrix)\n",
    "        n = [None] * len(matrix[0])\n",
    "        for i in range(len(m)):\n",
    "            for j in range(len(n)):\n",
    "                if matrix[i][j] == 0:\n",
    "                    m[i] = 1\n",
    "                    n[j]= 1\n",
    "        for i in range(len(m)):\n",
    "            for j in range(len(n)):\n",
    "                if m[i] == 1 and n[j] == 1:\n",
    "                    matrix[i][j] = 0"
   ]
  },
  {
   "cell_type": "code",
   "execution_count": 3,
   "metadata": {
    "ExecuteTime": {
     "end_time": "2019-08-23T04:56:50.243540Z",
     "start_time": "2019-08-23T04:56:50.233533Z"
    }
   },
   "outputs": [],
   "source": [
    "##空间复杂度O（1）\n",
    "##时间复杂度O（m x n x （m+n））\n",
    "\n",
    "class Solution:\n",
    "    def setZeros(self, matrix):\n",
    "        for i in range(len(matrix)):\n",
    "            for j in range(len(matrix[0])):\n",
    "                if matrix[i][j] == 0:\n",
    "                    for m in range(len(matrix[i])):\n",
    "                        if matrix[i][m] != 0:\n",
    "                            matrix[i][m] = -1000\n",
    "                    for n in range(len(matrix)):\n",
    "                        if matrix[n][j] != 0:\n",
    "                            matrix[n][j] = -1000\n",
    "        for i in range(len(matrix)):\n",
    "            for j in range(len(matrix[0])):\n",
    "                if matrix[i][j] == -1000:\n",
    "                    matrix[i][j] = 0"
   ]
  },
  {
   "cell_type": "code",
   "execution_count": 4,
   "metadata": {
    "ExecuteTime": {
     "end_time": "2019-08-23T06:28:15.371622Z",
     "start_time": "2019-08-23T06:28:15.350607Z"
    }
   },
   "outputs": [],
   "source": [
    "##空间复杂度O（1）\n",
    "##时间复杂度O（m x n）\n",
    "\n",
    "class Solution:\n",
    "    def setZeroes(self, matrix) -> None:\n",
    "        col_zero = False\n",
    "        for i in range(len(matrix)):\n",
    "            if matrix[i][0] == 0:\n",
    "                col_zero = True\n",
    "            for j in range(1, len(matrix[0])):\n",
    "                if matrix[i][j] == 0:\n",
    "                    matrix[0][j] = 0\n",
    "                    matrix[i][0] = 0\n",
    "        for m in range(1, len(matrix)):\n",
    "            for n in range(1, len(matrix[0])):\n",
    "                if not matrix[0][n] or not matrix[m][0]:\n",
    "                    matrix[m][n] = 0\n",
    "                       \n",
    "        if matrix[0][0] == 0:\n",
    "            for n in range(len(matrix[0])):\n",
    "                matrix[0][n] = 0\n",
    "        if col_zero:\n",
    "            for m in range(len(matrix)):\n",
    "                matrix[m][0] = 0"
   ]
  },
  {
   "cell_type": "markdown",
   "metadata": {},
   "source": [
    "#### 编译出一个ArrayList"
   ]
  },
  {
   "cell_type": "code",
   "execution_count": 10,
   "metadata": {
    "ExecuteTime": {
     "end_time": "2019-08-24T09:32:18.595810Z",
     "start_time": "2019-08-24T09:32:18.558788Z"
    }
   },
   "outputs": [],
   "source": [
    "import ctypes\n",
    "\n",
    "class DynamicArray:\n",
    "    def __init__(self):\n",
    "        self._n = 0\n",
    "        self._capacity = 10\n",
    "        self._A = self._make_array(self._capacity)\n",
    "\n",
    "    def __len__(self):\n",
    "        return self._n\n",
    "    \n",
    "    def is_empty(self):\n",
    "        return self._n == 0\n",
    "    \n",
    "    def __getitem__(self, k):\n",
    "        if not 0 <= k < self._n:\n",
    "            raise ValueError('invalid index')\n",
    "        return self._A[k]\n",
    "    \n",
    "    def append(self, obj):\n",
    "        if self._n == self._capacity:\n",
    "            self.resize(2 * self._capacity) \n",
    "        self._A[self._n] = obj\n",
    "        self._n += 1\n",
    "        \n",
    "    def _make_array(self, c):\n",
    "        return (c * ctypes.py_object)()\n",
    "    \n",
    "    def resize(self, c):\n",
    "        B = self._make_array(c)\n",
    "        for k in range(self._n):\n",
    "            B[k] = self._A[k]\n",
    "        self._A = B\n",
    "        self._capacity = c\n",
    "        \n",
    "    def insert(self, k, value):\n",
    "        if self._n == self._capacity:\n",
    "            self.resize(2 * self._capacity)\n",
    "        for j in range(self._n, k, -1):\n",
    "            self._A[j] = self._A[j - 1]\n",
    "        self._A[k] = value\n",
    "        self._n += 1\n",
    "    \n",
    "    def remove(self, value):\n",
    "        for k in range(self._n):\n",
    "            if self._A[k] == value:\n",
    "                for j in range(k, self._n - 1):\n",
    "                    self._A[j] = self._A[j + 1]\n",
    "                self._A[self._n - 1] = None\n",
    "                self._n -= 1\n",
    "                return \n",
    "        raise ValueError('value not found')\n",
    "        \n",
    "    def _print(self):\n",
    "        for i in range(self._n):\n",
    "            print(self._A[i], end = ' ')\n",
    "        print()"
   ]
  },
  {
   "cell_type": "code",
   "execution_count": 11,
   "metadata": {
    "ExecuteTime": {
     "end_time": "2019-08-24T09:32:19.291216Z",
     "start_time": "2019-08-24T09:32:19.279214Z"
    }
   },
   "outputs": [
    {
     "name": "stdout",
     "output_type": "stream",
     "text": [
      "size was: 0\n",
      "0 5 10 15 20 30 \n",
      "0 5 10 15 30 \n"
     ]
    }
   ],
   "source": [
    "mylist = DynamicArray()\n",
    "print('size was:', str(len(mylist)))\n",
    "mylist.append(10)\n",
    "mylist.append(20)\n",
    "mylist.append(30)\n",
    "mylist.insert(0, 0)\n",
    "mylist.insert(1, 5)\n",
    "mylist.insert(3, 15)\n",
    "mylist._print()\n",
    "mylist.remove(20)\n",
    "mylist._print()"
   ]
  },
  {
   "cell_type": "markdown",
   "metadata": {},
   "source": [
    "#### 编写一个幻方，使其横竖斜各自相加均等于相等，且每个数字只能使用一次"
   ]
  },
  {
   "cell_type": "code",
   "execution_count": 9,
   "metadata": {
    "ExecuteTime": {
     "end_time": "2019-08-25T05:34:05.508631Z",
     "start_time": "2019-08-25T05:34:05.500627Z"
    }
   },
   "outputs": [],
   "source": [
    "def magic_square(n):\n",
    "    row = n - 1\n",
    "    col = n // 2\n",
    "    magic = [[0] * n for i in range(n)]\n",
    "    magic[row][col] = 1\n",
    "    for i in range(2, n * n + 1):\n",
    "        row = (row + 1) % n\n",
    "        col = (col + 1)% n\n",
    "        while magic[row][col]: \n",
    "            row = (row - 2 + n) % n\n",
    "            col = (col - 1 + n) % n\n",
    "        if not magic[row][col]:\n",
    "            magic[row][col] = i \n",
    "    for i in magic:\n",
    "        print(i, sep = ' ')"
   ]
  },
  {
   "cell_type": "code",
   "execution_count": 10,
   "metadata": {
    "ExecuteTime": {
     "end_time": "2019-08-25T05:34:06.303457Z",
     "start_time": "2019-08-25T05:34:06.298454Z"
    }
   },
   "outputs": [
    {
     "name": "stdout",
     "output_type": "stream",
     "text": [
      "[4, 9, 2]\n",
      "[3, 5, 7]\n",
      "[8, 1, 6]\n"
     ]
    }
   ],
   "source": [
    "magic_square(3)"
   ]
  },
  {
   "cell_type": "code",
   "execution_count": 11,
   "metadata": {
    "ExecuteTime": {
     "end_time": "2019-08-25T05:34:23.795236Z",
     "start_time": "2019-08-25T05:34:23.790235Z"
    }
   },
   "outputs": [
    {
     "name": "stdout",
     "output_type": "stream",
     "text": [
      "[11, 18, 25, 2, 9]\n",
      "[10, 12, 19, 21, 3]\n",
      "[4, 6, 13, 20, 22]\n",
      "[23, 5, 7, 14, 16]\n",
      "[17, 24, 1, 8, 15]\n"
     ]
    }
   ],
   "source": [
    "magic_square(5)"
   ]
  },
  {
   "cell_type": "markdown",
   "metadata": {},
   "source": [
    "#### 给定填好的数独，验证是否准确"
   ]
  },
  {
   "cell_type": "code",
   "execution_count": 13,
   "metadata": {
    "ExecuteTime": {
     "end_time": "2019-08-25T11:23:41.014049Z",
     "start_time": "2019-08-25T11:23:41.001047Z"
    }
   },
   "outputs": [],
   "source": [
    "def sudoku(matrix):\n",
    "    n = len(matrix)\n",
    "    result_row = result_col = result_bulk = 0\n",
    "    \n",
    "    for i in range(n):\n",
    "        result_row = result_col = result_bulk = 0\n",
    "        for j in range(n):\n",
    "            tmp = matrix[i][j]\n",
    "            if (result_row & (1 << (tmp - 1))) == 0:\n",
    "                result_row = result_row | (1 << (tmp - 1))\n",
    "            else:\n",
    "                print('row:', i, j)\n",
    "                return False\n",
    "            \n",
    "            tmp = matrix[j][i]\n",
    "            if (result_col & (1 << (tmp - 1))) == 0:\n",
    "                result_col = result_col | (1 << (tmp - 1))\n",
    "            else:\n",
    "                print('col', i, j)\n",
    "                return False\n",
    "            \n",
    "            bulk_row = (i // 3) * 3 + j // 3\n",
    "            bulk_col = (i % 3) * 3 + j % 3\n",
    "            tmp = matrix[bulk_row][bulk_col]\n",
    "            if (result_bulk & (1 << (tmp - 1))) == 0:\n",
    "                result_bulk = result_bulk | (1 << (tmp - 1))\n",
    "            else:\n",
    "                print('bulk', i, j)\n",
    "                return False\n",
    "    return True"
   ]
  },
  {
   "cell_type": "code",
   "execution_count": 16,
   "metadata": {
    "ExecuteTime": {
     "end_time": "2019-08-25T11:23:58.189358Z",
     "start_time": "2019-08-25T11:23:58.175351Z"
    }
   },
   "outputs": [
    {
     "data": {
      "text/plain": [
       "True"
      ]
     },
     "execution_count": 16,
     "metadata": {},
     "output_type": "execute_result"
    }
   ],
   "source": [
    "matrix = [\n",
    "    [5,3,4,6,7,8,9,1,2],\n",
    "    [6,7,2,1,9,5,3,4,8],\n",
    "    [1,9,8,3,4,2,5,6,7],\n",
    "    [8,5,9,7,6,1,4,2,3],\n",
    "    [4,2,6,8,5,3,7,9,1],\n",
    "    [7,1,3,9,2,4,8,5,6],\n",
    "    [9,6,1,5,3,7,2,8,4],\n",
    "    [2,8,7,4,1,9,6,3,5],\n",
    "    [3,4,5,2,8,6,1,7,9]\n",
    "]\n",
    "sudoku(matrix)"
   ]
  },
  {
   "cell_type": "markdown",
   "metadata": {},
   "source": [
    "#### 旋转数组\n",
    "给一个 n×n 的数组，将数组旋转90度"
   ]
  },
  {
   "cell_type": "code",
   "execution_count": null,
   "metadata": {},
   "outputs": [],
   "source": []
  }
 ],
 "metadata": {
  "kernelspec": {
   "display_name": "python36",
   "language": "python",
   "name": "python36"
  },
  "language_info": {
   "codemirror_mode": {
    "name": "ipython",
    "version": 3
   },
   "file_extension": ".py",
   "mimetype": "text/x-python",
   "name": "python",
   "nbconvert_exporter": "python",
   "pygments_lexer": "ipython3",
   "version": "3.6.9"
  },
  "latex_envs": {
   "LaTeX_envs_menu_present": true,
   "autoclose": false,
   "autocomplete": true,
   "bibliofile": "biblio.bib",
   "cite_by": "apalike",
   "current_citInitial": 1,
   "eqLabelWithNumbers": true,
   "eqNumInitial": 1,
   "hotkeys": {
    "equation": "Ctrl-E",
    "itemize": "Ctrl-I"
   },
   "labels_anchors": false,
   "latex_user_defs": false,
   "report_style_numbering": false,
   "user_envs_cfg": false
  },
  "toc": {
   "base_numbering": 1,
   "nav_menu": {},
   "number_sections": true,
   "sideBar": true,
   "skip_h1_title": false,
   "title_cell": "Table of Contents",
   "title_sidebar": "Contents",
   "toc_cell": false,
   "toc_position": {},
   "toc_section_display": true,
   "toc_window_display": false
  },
  "varInspector": {
   "cols": {
    "lenName": 16,
    "lenType": 16,
    "lenVar": 40
   },
   "kernels_config": {
    "python": {
     "delete_cmd_postfix": "",
     "delete_cmd_prefix": "del ",
     "library": "var_list.py",
     "varRefreshCmd": "print(var_dic_list())"
    },
    "r": {
     "delete_cmd_postfix": ") ",
     "delete_cmd_prefix": "rm(",
     "library": "var_list.r",
     "varRefreshCmd": "cat(var_dic_list()) "
    }
   },
   "types_to_exclude": [
    "module",
    "function",
    "builtin_function_or_method",
    "instance",
    "_Feature"
   ],
   "window_display": false
  }
 },
 "nbformat": 4,
 "nbformat_minor": 2
}
