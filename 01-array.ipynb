{
 "cells": [
  {
   "cell_type": "markdown",
   "metadata": {},
   "source": [
    "## array\n",
    "#### 一个歌唱比赛的歌手打分，我们设计一个程序帮助现场去掉一个最低分和一个最高分，再计算一个平均分"
   ]
  },
  {
   "cell_type": "code",
   "execution_count": 5,
   "metadata": {
    "ExecuteTime": {
     "end_time": "2019-08-21T03:24:53.886442Z",
     "start_time": "2019-08-21T03:24:53.880435Z"
    }
   },
   "outputs": [],
   "source": [
    "def sing_score(scores):\n",
    "    min_score = scores[0]\n",
    "    max_score = scores[0]\n",
    "    for i in range(len(scores)):\n",
    "        if scores[i] > max_score:\n",
    "            max_score = scores[i]\n",
    "        if scores[i] < min_score:\n",
    "            min_score = scores[i]\n",
    "    scores.remove(min_score)\n",
    "    scores.remove(max_score)\n",
    "    return scores, sum(scores) / len(scores)"
   ]
  },
  {
   "cell_type": "code",
   "execution_count": 6,
   "metadata": {
    "ExecuteTime": {
     "end_time": "2019-08-21T03:24:54.156895Z",
     "start_time": "2019-08-21T03:24:54.143886Z"
    }
   },
   "outputs": [
    {
     "data": {
      "text/plain": [
       "([8, 9, 5, 8, 7, 9, 9.5], 7.928571428571429)"
      ]
     },
     "execution_count": 6,
     "metadata": {},
     "output_type": "execute_result"
    }
   ],
   "source": [
    "values =  [8,9,5,10,5,8,7,9,9.5]\n",
    "sing_score(values)"
   ]
  },
  {
   "cell_type": "markdown",
   "metadata": {},
   "source": [
    "#### 使用蒙特卡洛模拟计算π值"
   ]
  },
  {
   "cell_type": "code",
   "execution_count": 10,
   "metadata": {
    "ExecuteTime": {
     "end_time": "2019-08-21T03:45:58.358040Z",
     "start_time": "2019-08-21T03:45:58.352035Z"
    }
   },
   "outputs": [],
   "source": [
    "from random import random \n",
    "\n",
    "def pi(k):\n",
    "    circle = 0\n",
    "    for i in range(k):\n",
    "        m = random()\n",
    "        n = random()\n",
    "        x = -1 + 2 * m\n",
    "        y = -1 + 2 * n\n",
    "        if x ** 2 + y ** 2 < 1:\n",
    "            circle += 1\n",
    "    return 4 * circle / k"
   ]
  },
  {
   "cell_type": "code",
   "execution_count": 12,
   "metadata": {
    "ExecuteTime": {
     "end_time": "2019-08-21T03:48:20.073516Z",
     "start_time": "2019-08-21T03:46:27.204122Z"
    }
   },
   "outputs": [
    {
     "data": {
      "text/plain": [
       "3.14146792"
      ]
     },
     "execution_count": 12,
     "metadata": {},
     "output_type": "execute_result"
    }
   ],
   "source": [
    "pi(100000000)"
   ]
  },
  {
   "cell_type": "markdown",
   "metadata": {},
   "source": [
    "#### 洗牌后的每个元素随机出现在每个位置，且***概率相同***"
   ]
  },
  {
   "cell_type": "code",
   "execution_count": 26,
   "metadata": {
    "ExecuteTime": {
     "end_time": "2019-08-21T06:46:41.709848Z",
     "start_time": "2019-08-21T06:46:41.663818Z"
    }
   },
   "outputs": [
    {
     "name": "stdout",
     "output_type": "stream",
     "text": [
      "[97, 116, 79, 107, 87, 104, 91, 104, 116, 99]\n",
      "[87, 103, 79, 102, 97, 101, 111, 119, 100, 101]\n",
      "[106, 94, 104, 110, 112, 89, 100, 92, 107, 86]\n",
      "[98, 95, 108, 99, 108, 123, 79, 102, 85, 103]\n",
      "[98, 116, 98, 90, 104, 99, 100, 100, 105, 90]\n",
      "[108, 98, 100, 95, 99, 88, 102, 96, 100, 114]\n",
      "[100, 94, 99, 108, 92, 110, 109, 101, 97, 90]\n",
      "[79, 95, 117, 112, 100, 93, 98, 89, 104, 113]\n",
      "[104, 101, 102, 92, 106, 104, 103, 96, 90, 102]\n",
      "[123, 88, 114, 85, 95, 89, 107, 101, 96, 102]\n"
     ]
    }
   ],
   "source": [
    "from random import randint\n",
    "\n",
    "def shuffle(cards):\n",
    "    ords = [i for i in range(len(cards))]\n",
    "    for i in range(len(cards)):\n",
    "        m = i + randint(0, len(cards) - i - 1)\n",
    "        cards[i], cards[m] = cards[m], cards[i]\n",
    "        ords[i], ords[m] = ords[m], ords[i]\n",
    "    return ords\n",
    "        \n",
    "def test_shuffle(cards, times):\n",
    "    result = [[0 for i in range(len(cards))] for j in range(len(cards))]\n",
    "    for t in range(times):\n",
    "        shuffle_order = shuffle(cards)\n",
    "        for j in range(len(shuffle_order)):\n",
    "            result[shuffle_order[j]][j] += 1\n",
    "    for k in result:\n",
    "        print(k)\n",
    "\n",
    "test_shuffle([i for i in range(10)], 1000)"
   ]
  },
  {
   "cell_type": "markdown",
   "metadata": {},
   "source": [
    "#### 卡牌收集\n",
    "假设你有一副洗好了的牌， 你现在一张一张的进行翻牌， 请问你要翻多少张才能\n",
    "够凑齐一个花色？ 假定一副牌有N种类型， 那么你至少需要翻多少张才能凑齐一个类型？"
   ]
  },
  {
   "cell_type": "code",
   "execution_count": 35,
   "metadata": {
    "ExecuteTime": {
     "end_time": "2019-08-21T10:15:59.366380Z",
     "start_time": "2019-08-21T10:15:59.165271Z"
    }
   },
   "outputs": [
    {
     "name": "stdout",
     "output_type": "stream",
     "text": [
      "12\n"
     ]
    }
   ],
   "source": [
    "import random\n",
    "\n",
    "def coupon(n):\n",
    "    rst = [False] * n\n",
    "    count = 0\n",
    "    distinct = 0\n",
    "    while distinct < n:\n",
    "        m = random.randint(0, n-1)\n",
    "        if not rst[m]:\n",
    "            rst[m] = True\n",
    "            distinct += 1\n",
    "        count += 1\n",
    "    print(count)\n",
    "    \n",
    "coupon(10)"
   ]
  },
  {
   "cell_type": "code",
   "execution_count": null,
   "metadata": {},
   "outputs": [],
   "source": []
  }
 ],
 "metadata": {
  "kernelspec": {
   "display_name": "python36",
   "language": "python",
   "name": "python36"
  },
  "language_info": {
   "codemirror_mode": {
    "name": "ipython",
    "version": 3
   },
   "file_extension": ".py",
   "mimetype": "text/x-python",
   "name": "python",
   "nbconvert_exporter": "python",
   "pygments_lexer": "ipython3",
   "version": "3.6.9"
  },
  "latex_envs": {
   "LaTeX_envs_menu_present": true,
   "autoclose": false,
   "autocomplete": true,
   "bibliofile": "biblio.bib",
   "cite_by": "apalike",
   "current_citInitial": 1,
   "eqLabelWithNumbers": true,
   "eqNumInitial": 1,
   "hotkeys": {
    "equation": "Ctrl-E",
    "itemize": "Ctrl-I"
   },
   "labels_anchors": false,
   "latex_user_defs": false,
   "report_style_numbering": false,
   "user_envs_cfg": false
  },
  "toc": {
   "base_numbering": 1,
   "nav_menu": {},
   "number_sections": true,
   "sideBar": true,
   "skip_h1_title": false,
   "title_cell": "Table of Contents",
   "title_sidebar": "Contents",
   "toc_cell": false,
   "toc_position": {},
   "toc_section_display": true,
   "toc_window_display": false
  },
  "varInspector": {
   "cols": {
    "lenName": 16,
    "lenType": 16,
    "lenVar": 40
   },
   "kernels_config": {
    "python": {
     "delete_cmd_postfix": "",
     "delete_cmd_prefix": "del ",
     "library": "var_list.py",
     "varRefreshCmd": "print(var_dic_list())"
    },
    "r": {
     "delete_cmd_postfix": ") ",
     "delete_cmd_prefix": "rm(",
     "library": "var_list.r",
     "varRefreshCmd": "cat(var_dic_list()) "
    }
   },
   "types_to_exclude": [
    "module",
    "function",
    "builtin_function_or_method",
    "instance",
    "_Feature"
   ],
   "window_display": false
  }
 },
 "nbformat": 4,
 "nbformat_minor": 2
}
