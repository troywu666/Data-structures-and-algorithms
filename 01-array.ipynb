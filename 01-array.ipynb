{
 "cells": [
  {
   "cell_type": "markdown",
   "metadata": {},
   "source": [
    "## array\n",
    "### 静态数组\n",
    "#### 一个歌唱比赛的歌手打分，我们设计一个程序帮助现场去掉一个最低分和一个最高分，再计算一个平均分"
   ]
  },
  {
   "cell_type": "code",
   "execution_count": 5,
   "metadata": {
    "ExecuteTime": {
     "end_time": "2019-08-21T03:24:53.886442Z",
     "start_time": "2019-08-21T03:24:53.880435Z"
    }
   },
   "outputs": [],
   "source": [
    "def sing_score(scores):\n",
    "    min_score = scores[0]\n",
    "    max_score = scores[0]\n",
    "    for i in range(len(scores)):\n",
    "        if scores[i] > max_score:\n",
    "            max_score = scores[i]\n",
    "        if scores[i] < min_score:\n",
    "            min_score = scores[i]\n",
    "    scores.remove(min_score)\n",
    "    scores.remove(max_score)\n",
    "    return scores, sum(scores) / len(scores)"
   ]
  },
  {
   "cell_type": "code",
   "execution_count": 6,
   "metadata": {
    "ExecuteTime": {
     "end_time": "2019-08-21T03:24:54.156895Z",
     "start_time": "2019-08-21T03:24:54.143886Z"
    }
   },
   "outputs": [
    {
     "data": {
      "text/plain": [
       "([8, 9, 5, 8, 7, 9, 9.5], 7.928571428571429)"
      ]
     },
     "execution_count": 6,
     "metadata": {},
     "output_type": "execute_result"
    }
   ],
   "source": [
    "values =  [8,9,5,10,5,8,7,9,9.5]\n",
    "sing_score(values)"
   ]
  },
  {
   "cell_type": "markdown",
   "metadata": {},
   "source": [
    "#### 使用蒙特卡洛模拟计算π值"
   ]
  },
  {
   "cell_type": "code",
   "execution_count": 10,
   "metadata": {
    "ExecuteTime": {
     "end_time": "2019-08-21T03:45:58.358040Z",
     "start_time": "2019-08-21T03:45:58.352035Z"
    }
   },
   "outputs": [],
   "source": [
    "from random import random \n",
    "\n",
    "def pi(k):\n",
    "    circle = 0\n",
    "    for i in range(k):\n",
    "        m = random()\n",
    "        n = random()\n",
    "        x = -1 + 2 * m\n",
    "        y = -1 + 2 * n\n",
    "        if x ** 2 + y ** 2 < 1:\n",
    "            circle += 1\n",
    "    return 4 * circle / k"
   ]
  },
  {
   "cell_type": "code",
   "execution_count": 12,
   "metadata": {
    "ExecuteTime": {
     "end_time": "2019-08-21T03:48:20.073516Z",
     "start_time": "2019-08-21T03:46:27.204122Z"
    }
   },
   "outputs": [
    {
     "data": {
      "text/plain": [
       "3.14146792"
      ]
     },
     "execution_count": 12,
     "metadata": {},
     "output_type": "execute_result"
    }
   ],
   "source": [
    "pi(100000000)"
   ]
  },
  {
   "cell_type": "markdown",
   "metadata": {},
   "source": [
    "#### 洗牌后的每个元素随机出现在每个位置，且***概率相同***"
   ]
  },
  {
   "cell_type": "code",
   "execution_count": 26,
   "metadata": {
    "ExecuteTime": {
     "end_time": "2019-08-21T06:46:41.709848Z",
     "start_time": "2019-08-21T06:46:41.663818Z"
    }
   },
   "outputs": [
    {
     "name": "stdout",
     "output_type": "stream",
     "text": [
      "[97, 116, 79, 107, 87, 104, 91, 104, 116, 99]\n",
      "[87, 103, 79, 102, 97, 101, 111, 119, 100, 101]\n",
      "[106, 94, 104, 110, 112, 89, 100, 92, 107, 86]\n",
      "[98, 95, 108, 99, 108, 123, 79, 102, 85, 103]\n",
      "[98, 116, 98, 90, 104, 99, 100, 100, 105, 90]\n",
      "[108, 98, 100, 95, 99, 88, 102, 96, 100, 114]\n",
      "[100, 94, 99, 108, 92, 110, 109, 101, 97, 90]\n",
      "[79, 95, 117, 112, 100, 93, 98, 89, 104, 113]\n",
      "[104, 101, 102, 92, 106, 104, 103, 96, 90, 102]\n",
      "[123, 88, 114, 85, 95, 89, 107, 101, 96, 102]\n"
     ]
    }
   ],
   "source": [
    "from random import randint\n",
    "\n",
    "def shuffle(cards):\n",
    "    ords = [i for i in range(len(cards))]\n",
    "    for i in range(len(cards)):\n",
    "        m = i + randint(0, len(cards) - i - 1)\n",
    "        cards[i], cards[m] = cards[m], cards[i]\n",
    "        ords[i], ords[m] = ords[m], ords[i]\n",
    "    return ords\n",
    "        \n",
    "def test_shuffle(cards, times):\n",
    "    result = [[0 for i in range(len(cards))] for j in range(len(cards))]\n",
    "    for t in range(times):\n",
    "        shuffle_order = shuffle(cards)\n",
    "        for j in range(len(shuffle_order)):\n",
    "            result[shuffle_order[j]][j] += 1\n",
    "    for k in result:\n",
    "        print(k)\n",
    "\n",
    "test_shuffle([i for i in range(10)], 1000)"
   ]
  },
  {
   "cell_type": "markdown",
   "metadata": {},
   "source": [
    "#### 卡牌收集\n",
    "假设你有一副洗好了的牌， 你现在一张一张的进行翻牌， 请问你要翻多少张才能\n",
    "够凑齐一个花色？ 假定一副牌有N种类型， 那么你至少需要翻多少张才能凑齐一个类型？"
   ]
  },
  {
   "cell_type": "code",
   "execution_count": 35,
   "metadata": {
    "ExecuteTime": {
     "end_time": "2019-08-21T10:15:59.366380Z",
     "start_time": "2019-08-21T10:15:59.165271Z"
    }
   },
   "outputs": [
    {
     "name": "stdout",
     "output_type": "stream",
     "text": [
      "12\n"
     ]
    }
   ],
   "source": [
    "import random\n",
    "\n",
    "def coupon(n):\n",
    "    rst = [False] * n\n",
    "    count = 0\n",
    "    distinct = 0\n",
    "    while distinct < n:\n",
    "        m = random.randint(0, n-1)\n",
    "        if not rst[m]:\n",
    "            rst[m] = True\n",
    "            distinct += 1\n",
    "        count += 1\n",
    "    print(count)\n",
    "    \n",
    "coupon(10)"
   ]
  },
  {
   "cell_type": "markdown",
   "metadata": {},
   "source": [
    "#### 数质数\n",
    "##### 数质数：给定一个正整数n，计算出<span style = 'color: red'>小于等于</span>n的质数有多少个"
   ]
  },
  {
   "cell_type": "code",
   "execution_count": 7,
   "metadata": {
    "ExecuteTime": {
     "end_time": "2019-08-22T08:09:04.315156Z",
     "start_time": "2019-08-22T08:09:04.307152Z"
    }
   },
   "outputs": [],
   "source": [
    "def count_prime(n):\n",
    "    is_prime = [True] * (n+1)\n",
    "    i = 2\n",
    "    while i * i <= n:\n",
    "        if is_prime[i]:\n",
    "            j = i\n",
    "            while j * i <= n:\n",
    "                is_prime[j * i] = False\n",
    "                j += 1\n",
    "        i += 1\n",
    "        \n",
    "    count = 0\n",
    "    for i in range(2, n + 1):\n",
    "        if is_prime[i]:\n",
    "            print(i, end  = ' ')\n",
    "            count += 1\n",
    "    return count"
   ]
  },
  {
   "cell_type": "code",
   "execution_count": 10,
   "metadata": {
    "ExecuteTime": {
     "end_time": "2019-08-22T08:56:20.750058Z",
     "start_time": "2019-08-22T08:56:20.744054Z"
    }
   },
   "outputs": [
    {
     "name": "stdout",
     "output_type": "stream",
     "text": [
      "2 3 "
     ]
    },
    {
     "data": {
      "text/plain": [
       "2"
      ]
     },
     "execution_count": 10,
     "metadata": {},
     "output_type": "execute_result"
    }
   ],
   "source": [
    "count_prime(3)"
   ]
  },
  {
   "cell_type": "markdown",
   "metadata": {},
   "source": [
    "##### 数质数：给定一个正整数n，计算出<span style = 'color: red'>小于</span>n的质数有多少个"
   ]
  },
  {
   "cell_type": "code",
   "execution_count": 19,
   "metadata": {
    "ExecuteTime": {
     "end_time": "2019-08-22T09:45:08.666760Z",
     "start_time": "2019-08-22T09:45:08.658756Z"
    }
   },
   "outputs": [],
   "source": [
    "class Solution():\n",
    "    def countPrimes(self, n):\n",
    "        if n <= 2:\n",
    "            return 0\n",
    "        if n > 2:\n",
    "            is_prime = [True] * (n + 1)\n",
    "            i = 2\n",
    "            while i * i <= n:\n",
    "                if is_prime[i]:\n",
    "                    j = i\n",
    "                    while j * i <= n:\n",
    "                        is_prime[i * j] = False\n",
    "                        j += 1\n",
    "                i += 1\n",
    "            count = 0\n",
    "            for i in range(2, n):\n",
    "                if is_prime[i]:\n",
    "                    count += 1\n",
    "            return count "
   ]
  },
  {
   "cell_type": "code",
   "execution_count": 23,
   "metadata": {
    "ExecuteTime": {
     "end_time": "2019-08-22T09:45:42.347716Z",
     "start_time": "2019-08-22T09:45:42.341712Z"
    }
   },
   "outputs": [
    {
     "data": {
      "text/plain": [
       "1"
      ]
     },
     "execution_count": 23,
     "metadata": {},
     "output_type": "execute_result"
    }
   ],
   "source": [
    "A = Solution()\n",
    "A.countPrimes(3)"
   ]
  },
  {
   "cell_type": "markdown",
   "metadata": {},
   "source": [
    "#### 哥德巴赫猜想：任一大于2的偶数，都可表示成两个质数之和"
   ]
  },
  {
   "cell_type": "code",
   "execution_count": 37,
   "metadata": {
    "ExecuteTime": {
     "end_time": "2019-08-22T10:23:25.016552Z",
     "start_time": "2019-08-22T10:23:25.002541Z"
    }
   },
   "outputs": [],
   "source": [
    "def goldbach(n):\n",
    "    is_prime = [True] * (n + 1)\n",
    "    i = 2\n",
    "    while i * i <= n:\n",
    "        if is_prime[i]:\n",
    "            j = i\n",
    "            while j * i <= n:\n",
    "                is_prime[j * i] = False\n",
    "                j += 1\n",
    "        i += 1\n",
    "    count = 0\n",
    "    primes = []\n",
    "    for i in range(2, n):\n",
    "        if is_prime[i]:\n",
    "            primes .append(i)\n",
    "            count += 1\n",
    "    \n",
    "    i = 0\n",
    "    j = count - 1\n",
    "    while i < j:\n",
    "        if primes[i] + primes[j] == n:\n",
    "            print(primes[i], '+', primes[j])\n",
    "            i += 1\n",
    "            j -= 1\n",
    "        if primes[i] + primes[j] < n:\n",
    "            i += 1\n",
    "        if primes[i] + primes[j] > n:\n",
    "            j -= 1"
   ]
  },
  {
   "cell_type": "code",
   "execution_count": 38,
   "metadata": {
    "ExecuteTime": {
     "end_time": "2019-08-22T10:23:25.989846Z",
     "start_time": "2019-08-22T10:23:25.983842Z"
    }
   },
   "outputs": [
    {
     "name": "stdout",
     "output_type": "stream",
     "text": [
      "3 + 97\n",
      "11 + 89\n",
      "17 + 83\n",
      "29 + 71\n",
      "41 + 59\n",
      "47 + 53\n"
     ]
    }
   ],
   "source": [
    "goldbach(100)"
   ]
  },
  {
   "cell_type": "markdown",
   "metadata": {},
   "source": [
    "#### 1-bit 和 2-bit的字符\n",
    "有两种特殊字符。第一种字符可以用一比特0来表示。第二种字符可以用两比特(10 或 11)来表示。\n",
    "\n",
    "现给一个由若干比特组成的字符串。问最后一个字符是否必定为一个一比特字符。给定的字符串总是由0结束。\n",
    "##### 线性扫描"
   ]
  },
  {
   "cell_type": "code",
   "execution_count": 46,
   "metadata": {
    "ExecuteTime": {
     "end_time": "2019-08-22T11:55:42.171550Z",
     "start_time": "2019-08-22T11:55:42.166548Z"
    }
   },
   "outputs": [],
   "source": [
    "def is_zero_bit(bits):\n",
    "    i = 0\n",
    "    while i < len(bits) - 1:\n",
    "        i += bits[i] + 1\n",
    "    return i == len(bits) - 1 and bits[-1] == 0"
   ]
  },
  {
   "cell_type": "code",
   "execution_count": 47,
   "metadata": {
    "ExecuteTime": {
     "end_time": "2019-08-22T11:55:42.726744Z",
     "start_time": "2019-08-22T11:55:42.719743Z"
    }
   },
   "outputs": [
    {
     "data": {
      "text/plain": [
       "True"
      ]
     },
     "execution_count": 47,
     "metadata": {},
     "output_type": "execute_result"
    }
   ],
   "source": [
    "is_zero_bit([0,0,0])"
   ]
  },
  {
   "cell_type": "markdown",
   "metadata": {},
   "source": [
    "##### 贪心算法"
   ]
  },
  {
   "cell_type": "code",
   "execution_count": 54,
   "metadata": {
    "ExecuteTime": {
     "end_time": "2019-08-22T12:55:28.669253Z",
     "start_time": "2019-08-22T12:55:28.664251Z"
    }
   },
   "outputs": [],
   "source": [
    "def is_zero_bit(bits):\n",
    "    count = 0\n",
    "    m = bits.pop()\n",
    "    while bits and bits.pop():\n",
    "        count += 1\n",
    "    return count % 2 == 0 "
   ]
  },
  {
   "cell_type": "code",
   "execution_count": null,
   "metadata": {},
   "outputs": [],
   "source": [
    "class Solution(object):\n",
    "    def isOneBitCharacter(self, bits):\n",
    "        parity = bits.pop()\n",
    "        while bits and bits.pop(): \n",
    "            parity ^= 1\n",
    "        return parity == 0"
   ]
  },
  {
   "cell_type": "code",
   "execution_count": 55,
   "metadata": {
    "ExecuteTime": {
     "end_time": "2019-08-22T12:55:35.588967Z",
     "start_time": "2019-08-22T12:55:35.581961Z"
    }
   },
   "outputs": [
    {
     "data": {
      "text/plain": [
       "False"
      ]
     },
     "execution_count": 55,
     "metadata": {},
     "output_type": "execute_result"
    }
   ],
   "source": [
    "is_zero_bit([0,1,0])"
   ]
  },
  {
   "cell_type": "markdown",
   "metadata": {},
   "source": [
    "### 动态数组"
   ]
  },
  {
   "cell_type": "code",
   "execution_count": null,
   "metadata": {},
   "outputs": [],
   "source": []
  }
 ],
 "metadata": {
  "kernelspec": {
   "display_name": "python36",
   "language": "python",
   "name": "python36"
  },
  "language_info": {
   "codemirror_mode": {
    "name": "ipython",
    "version": 3
   },
   "file_extension": ".py",
   "mimetype": "text/x-python",
   "name": "python",
   "nbconvert_exporter": "python",
   "pygments_lexer": "ipython3",
   "version": "3.6.9"
  },
  "latex_envs": {
   "LaTeX_envs_menu_present": true,
   "autoclose": false,
   "autocomplete": true,
   "bibliofile": "biblio.bib",
   "cite_by": "apalike",
   "current_citInitial": 1,
   "eqLabelWithNumbers": true,
   "eqNumInitial": 1,
   "hotkeys": {
    "equation": "Ctrl-E",
    "itemize": "Ctrl-I"
   },
   "labels_anchors": false,
   "latex_user_defs": false,
   "report_style_numbering": false,
   "user_envs_cfg": false
  },
  "toc": {
   "base_numbering": 1,
   "nav_menu": {},
   "number_sections": true,
   "sideBar": true,
   "skip_h1_title": false,
   "title_cell": "Table of Contents",
   "title_sidebar": "Contents",
   "toc_cell": false,
   "toc_position": {},
   "toc_section_display": true,
   "toc_window_display": false
  },
  "varInspector": {
   "cols": {
    "lenName": 16,
    "lenType": 16,
    "lenVar": 40
   },
   "kernels_config": {
    "python": {
     "delete_cmd_postfix": "",
     "delete_cmd_prefix": "del ",
     "library": "var_list.py",
     "varRefreshCmd": "print(var_dic_list())"
    },
    "r": {
     "delete_cmd_postfix": ") ",
     "delete_cmd_prefix": "rm(",
     "library": "var_list.r",
     "varRefreshCmd": "cat(var_dic_list()) "
    }
   },
   "types_to_exclude": [
    "module",
    "function",
    "builtin_function_or_method",
    "instance",
    "_Feature"
   ],
   "window_display": false
  }
 },
 "nbformat": 4,
 "nbformat_minor": 2
}
